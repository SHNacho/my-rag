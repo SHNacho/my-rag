{
 "cells": [
  {
   "cell_type": "code",
   "execution_count": 26,
   "metadata": {},
   "outputs": [],
   "source": [
    "import streamlit as st\n",
    "\n",
    "from IPython.display import Image, display\n",
    "from langchain import hub\n",
    "from langchain.tools.retriever import create_retriever_tool\n",
    "from langchain_pinecone import PineconeVectorStore\n",
    "from langchain_core.prompts import PromptTemplate\n",
    "from langchain_core.messages import BaseMessage, HumanMessage, SystemMessage, ToolMessage, RemoveMessage\n",
    "from langchain_openai import ChatOpenAI, OpenAIEmbeddings\n",
    "from langgraph.graph.state import CompiledStateGraph\n",
    "from langgraph.checkpoint.memory import MemorySaver\n",
    "from langgraph.graph import END, StateGraph, START\n",
    "from langgraph.graph.message import add_messages\n",
    "from langgraph.prebuilt import ToolNode, tools_condition\n",
    "from pinecone import Pinecone\n",
    "from pydantic import BaseModel, Field\n",
    "from typing import Literal, Annotated, Sequence\n",
    "from typing_extensions import TypedDict"
   ]
  },
  {
   "cell_type": "code",
   "execution_count": 37,
   "metadata": {},
   "outputs": [],
   "source": [
    "model_id = \"gpt-4o-mini\"\n",
    "llm = ChatOpenAI(temperature=0.4, streaming=True, model=model_id)"
   ]
  },
  {
   "cell_type": "markdown",
   "metadata": {},
   "source": [
    "## State\n",
    "\n",
    "Define state"
   ]
  },
  {
   "cell_type": "code",
   "execution_count": 38,
   "metadata": {},
   "outputs": [],
   "source": [
    "class AgentState(TypedDict):\n",
    "    messages: Annotated[Sequence[BaseMessage], add_messages]\n",
    "    question: BaseMessage"
   ]
  },
  {
   "cell_type": "markdown",
   "metadata": {},
   "source": [
    "## Retriever\n",
    "Initialize the retriever"
   ]
  },
  {
   "cell_type": "code",
   "execution_count": 39,
   "metadata": {},
   "outputs": [],
   "source": [
    "pc = Pinecone()\n",
    "index = pc.Index(\"my-rag\")\n",
    "vectorstore = PineconeVectorStore(index=index, embedding=OpenAIEmbeddings())\n",
    "retriever = vectorstore.as_retriever(k=2)\n",
    "retriever_tool = create_retriever_tool(\n",
    "    retriever,\n",
    "    \"retrieve_ignacio_information\",\n",
    "    \"Search and return information about Ignacio\"\n",
    ")\n",
    "tools = [retriever_tool]"
   ]
  },
  {
   "cell_type": "markdown",
   "metadata": {},
   "source": [
    "## Nodes"
   ]
  },
  {
   "cell_type": "code",
   "execution_count": 40,
   "metadata": {},
   "outputs": [],
   "source": [
    "def filter(state):\n",
    "    \"\"\"\n",
    "    Filter the messages deleting tool calls and documents retrieved.\n",
    "\n",
    "    Args:\n",
    "        state (messages): The current state\n",
    "    \n",
    "    Returns:\n",
    "        dict: The updated state\n",
    "    \"\"\"\n",
    "    print(\"===Filter===\")\n",
    "    remove_ids = [m.id for m in state[\"messages\"] if isinstance(m, ToolMessage) or not m.content]\n",
    "    delete_messages = [RemoveMessage(id=id) for id in remove_ids]\n",
    "    return {\"messages\": delete_messages}"
   ]
  },
  {
   "cell_type": "code",
   "execution_count": 41,
   "metadata": {},
   "outputs": [],
   "source": [
    "def contextualize_question(state):\n",
    "    \"\"\"\n",
    "    Give context to the question for a better understanding\n",
    "\n",
    "    Args:\n",
    "        state (messages): The current state\n",
    "\n",
    "    Returns:\n",
    "        dict: The contextualized question\n",
    "    \"\"\"\n",
    "    print(\"===Contextualize===\")\n",
    "    prompt = (\n",
    "        \"Given the above conversation, reformulate the last question for a \"\n",
    "        \"better understanding without the context if possible. Otherwise, \"\n",
    "        \"just paraphrase the last user input:\"\n",
    "    )\n",
    "    messages = state[\"messages\"] + [HumanMessage(content=prompt)]\n",
    "\n",
    "    contextualized_question = llm.invoke(messages)\n",
    "    print(contextualized_question)\n",
    "\n",
    "    return {\n",
    "        \"question\": contextualized_question\n",
    "    }"
   ]
  },
  {
   "cell_type": "code",
   "execution_count": 43,
   "metadata": {},
   "outputs": [],
   "source": [
    "\n",
    "def agent(state):\n",
    "    \"\"\"\n",
    "    Invokes the agent model to generate a response based on the current state. Given\n",
    "    the question, it will decide to retrieve using the retriever tool, or simply end.\n",
    "\n",
    "    Args:\n",
    "        state (messages): The current state\n",
    "\n",
    "    Returns:\n",
    "        dict: The updated state with the agent response appended to messages\n",
    "    \"\"\"\n",
    "    print(\"===Agent===\")\n",
    "    system = SystemMessage(content=\"You are Ignacio's assistant. You only answer question about him.\")\n",
    "    question = state[\"question\"]\n",
    "    messages = state[\"messages\"]\n",
    "\n",
    "    feed_messages = [system] + messages[:-1] + [question]\n",
    "\n",
    "    model = ChatOpenAI(temperature=0.4, streaming=True, model=model_id)\n",
    "    model = model.bind_tools(tools)\n",
    "    response = model.invoke(feed_messages)\n",
    "    # We return a list, because this will get added to the existing list\n",
    "    return {\n",
    "        \"messages\": [response],\n",
    "    }"
   ]
  },
  {
   "cell_type": "code",
   "execution_count": 44,
   "metadata": {},
   "outputs": [],
   "source": [
    "def generate(state):\n",
    "    \"\"\"\n",
    "    Generate answer with the documents context.\n",
    "\n",
    "    Args:\n",
    "        state (messages): The current state\n",
    "\n",
    "    Returns:\n",
    "         dict: The updated state with the response\n",
    "    \"\"\"\n",
    "    print(\"===Generate===\")\n",
    "    messages = state[\"messages\"]\n",
    "    question = state[\"question\"]\n",
    "    last_message = messages[-1]\n",
    "\n",
    "    docs = last_message.content\n",
    "\n",
    "    # Prompt\n",
    "    prompt = hub.pull(\"rlm/rag-prompt\")\n",
    "\n",
    "    # Chain\n",
    "    rag_chain = prompt | llm\n",
    "\n",
    "    # Run\n",
    "    response = rag_chain.invoke({\"context\": docs, \"question\": question})\n",
    "    return {\"messages\": [response]}\n",
    "\n"
   ]
  },
  {
   "cell_type": "markdown",
   "metadata": {},
   "source": [
    "## Graph\n",
    "\n",
    "Build the graph"
   ]
  },
  {
   "cell_type": "code",
   "execution_count": 45,
   "metadata": {},
   "outputs": [
    {
     "data": {
      "image/jpeg": "[encoded data removed]",
      "text/plain": [
       "<IPython.core.display.Image object>"
      ]
     },
     "metadata": {},
     "output_type": "display_data"
    }
   ],
   "source": [
    "workflow = StateGraph(AgentState)\n",
    "# Define nodes\n",
    "workflow.add_node(\"filter\", filter)\n",
    "workflow.add_node(\"contextualize\", contextualize_question)\n",
    "workflow.add_node(\"agent\", agent)\n",
    "workflow.add_node(\"retrieve\", ToolNode(tools))\n",
    "workflow.add_node(\"generate\", generate)\n",
    "# Define edges\n",
    "workflow.add_edge(START, \"filter\")\n",
    "workflow.add_edge(\"filter\", \"contextualize\")\n",
    "workflow.add_edge(\"contextualize\", \"agent\")\n",
    "workflow.add_conditional_edges(\n",
    "    \"agent\",\n",
    "    tools_condition,\n",
    "    {\n",
    "        \"tools\": \"retrieve\",\n",
    "        END: END\n",
    "    }\n",
    ")\n",
    "workflow.add_edge(\"retrieve\", \"generate\")\n",
    "workflow.add_edge(\"generate\", END)\n",
    "# Add memory\n",
    "memory = MemorySaver()\n",
    "# Generate graph\n",
    "graph = workflow.compile(checkpointer=memory)\n",
    "display(Image(graph.get_graph().draw_mermaid_png()))"
   ]
  },
  {
   "cell_type": "code",
   "execution_count": 46,
   "metadata": {},
   "outputs": [
    {
     "name": "stdout",
     "output_type": "stream",
     "text": [
      "===Filter===\n",
      "===Contextualize===\n",
      "content=\"Hello! I'm Lance.\" additional_kwargs={} response_metadata={'finish_reason': 'stop', 'model_name': 'gpt-4o-mini-2024-07-18', 'system_fingerprint': 'fp_f59a81427f'} id='run-b05d91db-c5e2-4529-a767-2d772759bbfc-0'\n",
      "===Agent===\n",
      "==================================\u001b[1m Ai Message \u001b[0m==================================\n",
      "\n",
      "I'm here to assist you with any questions you have about Ignacio. What would you like to know?\n",
      "===Filter===\n",
      "===Contextualize===\n",
      "content=\"Could you provide details about Ignacio's background or qualifications?\" additional_kwargs={} response_metadata={'finish_reason': 'stop', 'model_name': 'gpt-4o-mini-2024-07-18', 'system_fingerprint': 'fp_f59a81427f'} id='run-56a6f19d-397b-40f0-9ca8-0d34758c6f30-0'\n",
      "===Agent===\n",
      "===Generate===\n",
      "==================================\u001b[1m Ai Message \u001b[0m==================================\n",
      "\n",
      "Ignacio Sánchez Herrera holds an M.S. in Data Science from the University of Granada, specializing in NLP and machine learning, and has a B.S. in Computer Engineering with a minor in AI. He currently works as a Data Scientist at Educa Edtech Group, where he develops NLP models and generative AI tools to enhance educational content and processes. Additionally, he has a background in business administration and a strong passion for continuous learning in technology and management.\n",
      "===Filter===\n",
      "===Contextualize===\n",
      "content='That sounds fantastic!' additional_kwargs={} response_metadata={'finish_reason': 'stop', 'model_name': 'gpt-4o-mini-2024-07-18', 'system_fingerprint': 'fp_f59a81427f'} id='run-ae1b3fb1-b94e-428d-a099-6a29d83f7308-0'\n",
      "===Agent===\n",
      "==================================\u001b[1m Ai Message \u001b[0m==================================\n",
      "\n",
      "I'm here to assist you with any questions you have about Ignacio. What would you like to know?\n"
     ]
    }
   ],
   "source": [
    "config = {\"configurable\": {\"thread_id\": \"1\"}}\n",
    "\n",
    "# Start conversation\n",
    "input_message = HumanMessage(content=\"hi! I'm Lance\")\n",
    "output = graph.invoke({\"messages\": [input_message]}, config=config) \n",
    "for m in output['messages'][-1:]:\n",
    "    m.pretty_print()\n",
    "\n",
    "input_message = HumanMessage(content=\"Tell me about Ignacio's experience\")\n",
    "output = graph.invoke({\"messages\": [input_message]}, config=config) \n",
    "for m in output['messages'][-1:]:\n",
    "    m.pretty_print()\n",
    "\n",
    "input_message = HumanMessage(content=\"Oh! That is great\")\n",
    "output = graph.invoke({\"messages\": [input_message]}, config=config) \n",
    "for m in output['messages'][-1:]:\n",
    "    m.pretty_print()"
   ]
  },
  {
   "cell_type": "code",
   "execution_count": 51,
   "metadata": {},
   "outputs": [
    {
     "name": "stdout",
     "output_type": "stream",
     "text": [
      "===Filter===\n",
      "===Contextualize===\n",
      "content='Thank you for the information!' additional_kwargs={} response_metadata={'finish_reason': 'stop', 'model_name': 'gpt-4o-mini-2024-07-18', 'system_fingerprint': 'fp_f59a81427f'} id='run-44434639-cc16-4f5c-ab01-914ceb8239d5-0'\n",
      "===Agent===\n",
      "==================================\u001b[1m Ai Message \u001b[0m==================================\n",
      "\n",
      "You're welcome! If you have any more questions about Ignacio, feel free to ask!\n"
     ]
    }
   ],
   "source": [
    "\n",
    "input_message = HumanMessage(content=\"Thank you!\")\n",
    "output = graph.invoke({\"messages\": [input_message]}, config=config) \n",
    "for m in output['messages'][-1:]:\n",
    "    m.pretty_print()"
   ]
  },
  {
   "cell_type": "code",
   "execution_count": null,
   "metadata": {},
   "outputs": [],
   "source": []
  }
 ],
 "metadata": {
  "kernelspec": {
   "display_name": "venv",
   "language": "python",
   "name": "python3"
  },
  "language_info": {
   "codemirror_mode": {
    "name": "ipython",
    "version": 3
   },
   "file_extension": ".py",
   "mimetype": "text/x-python",
   "name": "python",
   "nbconvert_exporter": "python",
   "pygments_lexer": "ipython3",
   "version": "3.12.7"
  }
 },
 "nbformat": 4,
 "nbformat_minor": 2
}
